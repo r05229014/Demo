{
 "cells": [
  {
   "cell_type": "code",
   "execution_count": 1,
   "metadata": {},
   "outputs": [
    {
     "name": "stderr",
     "output_type": "stream",
     "text": [
      "/home/ericakcc/anaconda3/envs/tensorflow/lib/python3.5/site-packages/h5py/__init__.py:34: FutureWarning: Conversion of the second argument of issubdtype from `float` to `np.floating` is deprecated. In future, it will be treated as `np.float64 == np.dtype(float).type`.\n",
      "  from ._conv import register_converters as _register_converters\n",
      "Using TensorFlow backend.\n"
     ]
    }
   ],
   "source": [
    "%matplotlib inline\n",
    "import keras\n",
    "from matplotlib import pyplot as plt\n",
    "import numpy as np\n",
    "import cv2 # Opencv\n",
    "from keras.datasets import mnist\n",
    "from keras.models import Sequential, load_model\n",
    "from keras.layers import Dense\n",
    "import os \n",
    "\n",
    "# hyper parameters\n",
    "batch_size = 512\n",
    "num_classes = 10\n",
    "epochs = 30"
   ]
  },
  {
   "cell_type": "markdown",
   "metadata": {},
   "source": [
    "# keras 內建的下載mnist資料"
   ]
  },
  {
   "cell_type": "code",
   "execution_count": 2,
   "metadata": {
    "scrolled": true
   },
   "outputs": [],
   "source": [
    "(x_train, y_train), (x_test, y_test) = mnist.load_data(path='mnist.npz')"
   ]
  },
  {
   "cell_type": "markdown",
   "metadata": {},
   "source": [
    "下載下來原始的檔案是（28X28）的圖像大小\n",
    "大概如下圖所示  \n",
    "但因為我沒有要使用cnn 我只用全連接層做model 所以我會把他flatten(拉直)  \n",
    "並且把像素/255 使每個像素介於0~1之間（模式會比較好fit）"
   ]
  },
  {
   "cell_type": "code",
   "execution_count": 3,
   "metadata": {},
   "outputs": [
    {
     "name": "stdout",
     "output_type": "stream",
     "text": [
      "(60000, 28, 28)\n"
     ]
    },
    {
     "data": {
      "text/plain": [
       "<matplotlib.image.AxesImage at 0x7f6b73663048>"
      ]
     },
     "execution_count": 3,
     "metadata": {},
     "output_type": "execute_result"
    },
    {
     "data": {
      "image/png": "[encoded data removed]",
      "text/plain": [
       "<matplotlib.figure.Figure at 0x7f6b02410b70>"
      ]
     },
     "metadata": {},
     "output_type": "display_data"
    }
   ],
   "source": [
    "print(x_train.shape) # training data\n",
    "img1 = x_train[0]\n",
    "plt.imshow(img1, 'gray')"
   ]
  },
  {
   "cell_type": "code",
   "execution_count": 4,
   "metadata": {},
   "outputs": [
    {
     "name": "stdout",
     "output_type": "stream",
     "text": [
      "60000 train samples\n",
      "10000 test samples\n"
     ]
    }
   ],
   "source": [
    "x_train = x_train.reshape(60000, 784)\n",
    "x_test = x_test.reshape(10000, 784)\n",
    "x_train = x_train.astype('float32')\n",
    "x_test = x_test.astype('float32')\n",
    "x_train /= 255 # normalize\n",
    "x_test /= 255 # normalize \n",
    "print(x_train.shape[0], 'train samples')\n",
    "print(x_test.shape[0], 'test samples')"
   ]
  },
  {
   "cell_type": "code",
   "execution_count": 5,
   "metadata": {},
   "outputs": [],
   "source": [
    "# convert class vectors to binary class matrices\n",
    "y_train = keras.utils.to_categorical(y_train, num_classes)\n",
    "y_test = keras.utils.to_categorical(y_test, num_classes)"
   ]
  },
  {
   "cell_type": "markdown",
   "metadata": {},
   "source": [
    "# 這是一個隨便亂接的model"
   ]
  },
  {
   "cell_type": "code",
   "execution_count": 6,
   "metadata": {},
   "outputs": [],
   "source": [
    "def built_model(): \n",
    "    model = Sequential()\n",
    "    model.add(Dense(64, activation='relu', input_shape=(784,)))\n",
    "    model.add(Dense(64, activation='relu'))\n",
    "    model.add(Dense(64, activation='relu'))\n",
    "    model.add(Dense(64, activation='relu'))\n",
    "    model.add(Dense(10, activation='softmax'))\n",
    "    \n",
    "    model.summary()\n",
    "\n",
    "    return model"
   ]
  },
  {
   "cell_type": "code",
   "execution_count": 7,
   "metadata": {},
   "outputs": [
    {
     "name": "stdout",
     "output_type": "stream",
     "text": [
      "_________________________________________________________________\n",
      "Layer (type)                 Output Shape              Param #   \n",
      "=================================================================\n",
      "dense_1 (Dense)              (None, 64)                50240     \n",
      "_________________________________________________________________\n",
      "dense_2 (Dense)              (None, 64)                4160      \n",
      "_________________________________________________________________\n",
      "dense_3 (Dense)              (None, 64)                4160      \n",
      "_________________________________________________________________\n",
      "dense_4 (Dense)              (None, 64)                4160      \n",
      "_________________________________________________________________\n",
      "dense_5 (Dense)              (None, 10)                650       \n",
      "=================================================================\n",
      "Total params: 63,370\n",
      "Trainable params: 63,370\n",
      "Non-trainable params: 0\n",
      "_________________________________________________________________\n",
      "Train on 60000 samples, validate on 10000 samples\n",
      "Epoch 1/30\n",
      "60000/60000 [==============================] - 1s 13us/step - loss: 0.7249 - acc: 0.7777 - val_loss: 0.2520 - val_acc: 0.9236\n",
      "Epoch 2/30\n",
      "60000/60000 [==============================] - 0s 5us/step - loss: 0.2073 - acc: 0.9391 - val_loss: 0.1633 - val_acc: 0.9524\n",
      "Epoch 3/30\n",
      "60000/60000 [==============================] - 0s 5us/step - loss: 0.1532 - acc: 0.9555 - val_loss: 0.1393 - val_acc: 0.9576\n",
      "Epoch 4/30\n",
      "60000/60000 [==============================] - 0s 5us/step - loss: 0.1291 - acc: 0.9617 - val_loss: 0.1269 - val_acc: 0.9620\n",
      "Epoch 5/30\n",
      "60000/60000 [==============================] - 0s 5us/step - loss: 0.1056 - acc: 0.9686 - val_loss: 0.1177 - val_acc: 0.9647\n",
      "Epoch 6/30\n",
      "60000/60000 [==============================] - 0s 6us/step - loss: 0.0953 - acc: 0.9720 - val_loss: 0.1200 - val_acc: 0.9643\n",
      "Epoch 7/30\n",
      "60000/60000 [==============================] - 0s 5us/step - loss: 0.0826 - acc: 0.9751 - val_loss: 0.1071 - val_acc: 0.9681\n",
      "Epoch 8/30\n",
      "60000/60000 [==============================] - 0s 6us/step - loss: 0.0721 - acc: 0.9782 - val_loss: 0.1064 - val_acc: 0.9667\n",
      "Epoch 9/30\n",
      "60000/60000 [==============================] - 0s 5us/step - loss: 0.0645 - acc: 0.9808 - val_loss: 0.0936 - val_acc: 0.9699\n",
      "Epoch 10/30\n",
      "60000/60000 [==============================] - 0s 5us/step - loss: 0.0568 - acc: 0.9827 - val_loss: 0.0953 - val_acc: 0.9695\n",
      "Epoch 11/30\n",
      "60000/60000 [==============================] - 0s 6us/step - loss: 0.0509 - acc: 0.9846 - val_loss: 0.0936 - val_acc: 0.9728\n",
      "Epoch 12/30\n",
      "60000/60000 [==============================] - 0s 6us/step - loss: 0.0450 - acc: 0.9868 - val_loss: 0.1017 - val_acc: 0.9675\n",
      "Epoch 13/30\n",
      "60000/60000 [==============================] - 0s 7us/step - loss: 0.0441 - acc: 0.9862 - val_loss: 0.0985 - val_acc: 0.9693\n",
      "Epoch 14/30\n",
      "60000/60000 [==============================] - 0s 7us/step - loss: 0.0412 - acc: 0.9871 - val_loss: 0.1062 - val_acc: 0.9691\n",
      "Epoch 15/30\n",
      "60000/60000 [==============================] - 0s 7us/step - loss: 0.0354 - acc: 0.9895 - val_loss: 0.0917 - val_acc: 0.9738\n",
      "Epoch 16/30\n",
      "60000/60000 [==============================] - 0s 7us/step - loss: 0.0322 - acc: 0.9902 - val_loss: 0.0865 - val_acc: 0.9755\n",
      "Epoch 17/30\n",
      "60000/60000 [==============================] - 0s 7us/step - loss: 0.0305 - acc: 0.9905 - val_loss: 0.1041 - val_acc: 0.9716\n",
      "Epoch 18/30\n",
      "60000/60000 [==============================] - 0s 8us/step - loss: 0.0264 - acc: 0.9918 - val_loss: 0.1085 - val_acc: 0.9704\n",
      "Epoch 19/30\n",
      "60000/60000 [==============================] - 0s 8us/step - loss: 0.0244 - acc: 0.9926 - val_loss: 0.0964 - val_acc: 0.9752\n",
      "Epoch 20/30\n",
      "60000/60000 [==============================] - 0s 6us/step - loss: 0.0208 - acc: 0.9938 - val_loss: 0.0952 - val_acc: 0.9756\n",
      "Epoch 21/30\n",
      "60000/60000 [==============================] - 0s 6us/step - loss: 0.0170 - acc: 0.9954 - val_loss: 0.1011 - val_acc: 0.9736\n",
      "Epoch 22/30\n",
      "60000/60000 [==============================] - 0s 5us/step - loss: 0.0171 - acc: 0.9948 - val_loss: 0.0983 - val_acc: 0.9744\n",
      "Epoch 23/30\n",
      "60000/60000 [==============================] - 0s 5us/step - loss: 0.0167 - acc: 0.9954 - val_loss: 0.1082 - val_acc: 0.9735\n",
      "Epoch 24/30\n",
      "60000/60000 [==============================] - 0s 5us/step - loss: 0.0180 - acc: 0.9945 - val_loss: 0.1146 - val_acc: 0.9726\n",
      "Epoch 25/30\n",
      "60000/60000 [==============================] - 0s 5us/step - loss: 0.0175 - acc: 0.9948 - val_loss: 0.1042 - val_acc: 0.9754\n",
      "Epoch 26/30\n",
      "60000/60000 [==============================] - 0s 5us/step - loss: 0.0145 - acc: 0.9954 - val_loss: 0.1068 - val_acc: 0.9763\n",
      "Epoch 27/30\n",
      "60000/60000 [==============================] - 0s 5us/step - loss: 0.0121 - acc: 0.9965 - val_loss: 0.1073 - val_acc: 0.9753\n",
      "Epoch 28/30\n",
      "60000/60000 [==============================] - 0s 6us/step - loss: 0.0112 - acc: 0.9967 - val_loss: 0.1109 - val_acc: 0.9744\n",
      "Epoch 29/30\n",
      "60000/60000 [==============================] - 0s 6us/step - loss: 0.0132 - acc: 0.9956 - val_loss: 0.1170 - val_acc: 0.9746\n",
      "Epoch 30/30\n",
      "60000/60000 [==============================] - 0s 5us/step - loss: 0.0107 - acc: 0.9969 - val_loss: 0.1145 - val_acc: 0.9753\n"
     ]
    }
   ],
   "source": [
    "model = built_model()\n",
    "model.compile(loss='categorical_crossentropy',\n",
    "              optimizer='adam',\n",
    "              metrics=['accuracy'])\n",
    "\n",
    "history = model.fit(x_train, y_train,\n",
    "                    batch_size=batch_size,\n",
    "                    epochs=epochs,\n",
    "                    verbose=1,\n",
    "                    validation_data=(x_test, y_test))\n",
    "\n",
    "# save model\n",
    "model_dir = './models'\n",
    "if not os.path.exists(model_dir):\n",
    "    os.mkdir(model_dir)\n",
    "model.save(model_dir + '/model_1.h5')"
   ]
  },
  {
   "cell_type": "code",
   "execution_count": 9,
   "metadata": {},
   "outputs": [
    {
     "data": {
      "text/plain": [
       "<matplotlib.legend.Legend at 0x7f6aff00fa20>"
      ]
     },
     "execution_count": 9,
     "metadata": {},
     "output_type": "execute_result"
    },
    {
     "data": {
      "image/png": "[encoded data removed]",
      "text/plain": [
       "<matplotlib.figure.Figure at 0x7f6aff042860>"
      ]
     },
     "metadata": {},
     "output_type": "display_data"
    }
   ],
   "source": [
    "# plot loss and accuracy\n",
    "acc = history.history['acc']\n",
    "loss = history.history['loss']\n",
    "val_acc = history.history['val_acc']\n",
    "val_loss = history.history['val_loss']\n",
    "\n",
    "plt.figure(figsize=(12,12))\n",
    "plt.subplot(2,1,1)\n",
    "plt.ylabel('accuracy')\n",
    "plt.plot(range(epochs), acc, 'b', label='acc')\n",
    "plt.plot(range(epochs), val_acc, 'r', label='val_acc')\n",
    "plt.legend()\n",
    "plt.subplot(2,1,2)\n",
    "plt.ylabel('loss')\n",
    "plt.plot(range(epochs), loss, 'b', label='loss')\n",
    "plt.plot(range(epochs), val_loss, 'r', label='val_loss')\n",
    "plt.xlabel('epochs')\n",
    "plt.legend()"
   ]
  },
  {
   "cell_type": "code",
   "execution_count": 10,
   "metadata": {
    "collapsed": true
   },
   "outputs": [],
   "source": [
    "# load your model \n",
    "model = load_model('./models/model_1.h5')\n",
    "\n",
    "img = cv2.imread('./real_img/35062719_1941302955894222_4729918758619971584_n.png')"
   ]
  },
  {
   "cell_type": "markdown",
   "metadata": {},
   "source": [
    "------\n",
    "因為你小畫家弄出來的圖是彩色(3個頻道)的，要先轉成灰階  \n",
    "接著因為我training 的時候有normailze(把全部的pixel都除以255)  \n",
    "所以test的時候也要做一樣的事情  \n",
    "當然你也可以training的時候不做normalize"
   ]
  },
  {
   "cell_type": "code",
   "execution_count": 11,
   "metadata": {},
   "outputs": [
    {
     "data": {
      "image/png": "[encoded data removed]",
      "text/plain": [
       "<matplotlib.figure.Figure at 0x7f6aff0069e8>"
      ]
     },
     "metadata": {},
     "output_type": "display_data"
    }
   ],
   "source": [
    "img = cv2.imread('./real_img/35062719_1941302955894222_4729918758619971584_n.png')\n",
    "img = cv2.cvtColor(img, cv2.COLOR_BGR2GRAY) # turn RGB to gray\n",
    "img = cv2.resize(img, (28,28)) # resize\n",
    "plt.imshow(img, 'gray')\n",
    "\n",
    "img = img.astype('float32')\n",
    "img /= 255 # normalize\n",
    "img = img.reshape(1,784) # flatten"
   ]
  },
  {
   "cell_type": "code",
   "execution_count": 12,
   "metadata": {},
   "outputs": [
    {
     "data": {
      "text/plain": [
       "2"
      ]
     },
     "execution_count": 12,
     "metadata": {},
     "output_type": "execute_result"
    }
   ],
   "source": [
    "pre = model.predict(img)\n",
    "pre = np.argmax(pre)\n",
    "pre"
   ]
  },
  {
   "cell_type": "markdown",
   "metadata": {},
   "source": [
    "大概就全部就是這樣，然後我訓練出的model覺得你寫的3是2 XD  \n",
    "不過這只是用全連接曾去訓練的，用CNN表現會比較好一點~"
   ]
  },
  {
   "cell_type": "code",
   "execution_count": null,
   "metadata": {
    "collapsed": true
   },
   "outputs": [],
   "source": []
  }
 ],
 "metadata": {
  "kernelspec": {
   "display_name": "Python 3",
   "language": "python",
   "name": "python3"
  },
  "language_info": {
   "codemirror_mode": {
    "name": "ipython",
    "version": 3
   },
   "file_extension": ".py",
   "mimetype": "text/x-python",
   "name": "python",
   "nbconvert_exporter": "python",
   "pygments_lexer": "ipython3",
   "version": "3.5.4"
  }
 },
 "nbformat": 4,
 "nbformat_minor": 2
}
